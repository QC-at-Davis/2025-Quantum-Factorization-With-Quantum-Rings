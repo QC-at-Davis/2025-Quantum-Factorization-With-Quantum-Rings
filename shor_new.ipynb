{
 "cells": [
  {
   "cell_type": "code",
   "execution_count": 1,
   "id": "2ca8d413-e93d-489a-9892-36f4dd6af520",
   "metadata": {},
   "outputs": [
    {
     "data": {
      "text/plain": [
       "{'name': 'dnagulapati@ucdavis.edu',\n",
       " 'token': 'rings-200.VMGQpDL5KTkSA03lEfGTVAOIsvZvZtgw',\n",
       " 'max_qubits': '200'}"
      ]
     },
     "execution_count": 1,
     "metadata": {},
     "output_type": "execute_result"
    }
   ],
   "source": [
    "import QuantumRingsLib\n",
    "from QuantumRingsLib import QuantumRegister, AncillaRegister, ClassicalRegister, QuantumCircuit\n",
    "from QuantumRingsLib import QuantumRingsProvider\n",
    "from QuantumRingsLib import job_monitor\n",
    "from QuantumRingsLib import JobStatus\n",
    "from matplotlib import pyplot as plt\n",
    "import numpy as np\n",
    "import math\n",
    "from math import gcd\n",
    "import random\n",
    "\n",
    "provider = QuantumRingsProvider(token ='rings-200.VMGQpDL5KTkSA03lEfGTVAOIsvZvZtgw', name='dnagulapati@ucdavis.edu')\n",
    "backend = provider.get_backend(\"scarlet_quantum_rings\")\n",
    "shots = 1024\n",
    "    \n",
    "provider.active_account()"
   ]
  },
  {
   "cell_type": "code",
   "execution_count": 2,
   "id": "0fdc6f60-e6ef-4a0b-abeb-1d64672fddb7",
   "metadata": {},
   "outputs": [],
   "source": [
    "def iqft_cct(qc, b, n):\n",
    "    \"\"\"\n",
    "    The inverse QFT circuit\n",
    "\n",
    "    Args:\n",
    "\n",
    "        qc (QuantumCircuit):\n",
    "                The quantum circuit\n",
    "\n",
    "        b (QuantumRegister):\n",
    "                The target register\n",
    "\n",
    "        n (int):\n",
    "                The number of qubits in the registers to use\n",
    "\n",
    "    Returns:\n",
    "        None\n",
    "\n",
    "    \"\"\"\n",
    "\n",
    "    for i in range (n):\n",
    "        for j in range (1, i+1):\n",
    "            # for inverse transform, we have to use negative angles\n",
    "            qc.cu1(  -math.pi / 2** ( i -j + 1 ), b[j - 1], b[i])\n",
    "        # the H transform should be done after the rotations\n",
    "        qc.h(b[i])\n",
    "    #qc.barrier()\n",
    "    return\n",
    "\n",
    "def qft_cct(qc, b, n):\n",
    "    \"\"\"\n",
    "    The Forward QFT circuit\n",
    "\n",
    "    Args:\n",
    "\n",
    "        qc (QuantumCircuit):\n",
    "                The quantum circuit\n",
    "\n",
    "        b (QuantumRegister):\n",
    "                The target register\n",
    "\n",
    "        n (int):\n",
    "                The number of qubits in the registers to use\n",
    "\n",
    "    Returns:\n",
    "        None\n",
    "\n",
    "    \"\"\"\n",
    "\n",
    "    while (n):\n",
    "        qc.h(b[n-1])\n",
    "        for i in range (n-1, 0, -1):\n",
    "            qc.cu1(math.pi / 2** (n - i ), b[i - 1], b[n-1])\n",
    "        n -= 1\n",
    "        #qc.barrier()\n",
    "    return"
   ]
  },
  {
   "cell_type": "code",
   "execution_count": 3,
   "id": "5fa27805-d131-41ea-8bff-67cb52544179",
   "metadata": {},
   "outputs": [],
   "source": [
    "def plot_histogram (counts, title=\"\"):\n",
    "    \"\"\"\n",
    "    Plots the histogram of the counts\n",
    "\n",
    "    Args:\n",
    "\n",
    "        counts (dict):\n",
    "            The dictionary containing the counts of states\n",
    "\n",
    "        titles (str):\n",
    "            A title for the graph.\n",
    "\n",
    "    Returns:\n",
    "        None\n",
    "\n",
    "    \"\"\"\n",
    "    fig, ax = plt.subplots(figsize =(10, 7))\n",
    "    plt.xlabel(\"States\")\n",
    "    plt.ylabel(\"Counts\")\n",
    "    mylist = [key for key, val in counts.items() for _ in range(val)]\n",
    "\n",
    "    unique, inverse = np.unique(mylist, return_inverse=True)\n",
    "    bin_counts = np.bincount(inverse)\n",
    "\n",
    "    plt.bar(unique, bin_counts)\n",
    "\n",
    "    maxFreq = max(counts.values())\n",
    "    plt.ylim(ymax=np.ceil(maxFreq / 10) * 10 if maxFreq % 10 else maxFreq + 10)\n",
    "    # Show plot\n",
    "    plt.title(title)\n",
    "    plt.show()\n",
    "    return"
   ]
  },
  {
   "cell_type": "code",
   "execution_count": 4,
   "id": "688dcaec-ff2a-44bd-9426-6e440ffbe92b",
   "metadata": {},
   "outputs": [],
   "source": [
    "def modular_exponentiation(qc, a, N, exponent_qubits, result_qubits):\n",
    "\n",
    "    n = len(exponent_qubits)\n",
    "    \n",
    "    # Initialize |1⟩ in result register (since a^0 mod N = 1)\n",
    "    qc.x(n)\n",
    "\n",
    "    # Apply modular exponentiation using controlled multiplications\n",
    "    for i in range(n):  \n",
    "        exp = 2 ** i\n",
    "        a_exp = (a ** exp) % N  # Compute (a^exp mod N)\n",
    "        \n",
    "        # Apply controlled multiplication with modular addition\n",
    "        iqft_cct(qc,result_qubits,len(result_qubits))  # QFT Inverse\n",
    "        for j in range(len(result_qubits)):\n",
    "            if (a_exp >> j) & 1:  # Apply CNOT for bit-wise controlled addition\n",
    "                qc.cx(exponent_qubits[i],result_qubits[n-1-j])\n",
    "        qft_cct(qc,result_qubits,len(result_qubits))  # QFT\n",
    "        \n",
    "    return qc"
   ]
  },
  {
   "cell_type": "code",
   "execution_count": 5,
   "id": "bce1a6f2-f042-4503-bfea-2cadead178b4",
   "metadata": {},
   "outputs": [],
   "source": [
    "def shors_algorithm(N,a):\n",
    "    \"\"\"\n",
    "    Full implementation of Shor's algorithm for factoring an integer N.\n",
    "    \"\"\"\n",
    "    # Step 2: Compute GCD (if it's a factor, return it)\n",
    "    if gcd(a, N) > 1:\n",
    "        return f\"Factor found classically: {gcd(a, N)}\"\n",
    "    \n",
    "    # Step 3: Prepare quantum registers\n",
    "    n = int(np.ceil(np.log2(N)))  # Number of qubits needed\n",
    "\n",
    "    exponent_qubits = QuantumRegister(n , 'q')\n",
    "    result_qubits = QuantumRegister(n , 'r')\n",
    "    classical_qubits = ClassicalRegister(n , 'c')\n",
    "    qc = QuantumCircuit(exponent_qubits, result_qubits, classical_qubits)\n",
    "\n",
    "    # Apply Hadamards to exponent qubits\n",
    "    for qi in range(n):\n",
    "        qc.h(qi)\n",
    "    \n",
    "    # Perform Modular Exponentiation\n",
    "    modular_exponentiation(qc, a, N, exponent_qubits, result_qubits)\n",
    "\n",
    "    #iqft on exponent_qubits\n",
    "    iqft_cct(qc,exponent_qubits,n)\n",
    "    \n",
    "    # Measure result\n",
    "    qc.measure(exponent_qubits, range(n))\n",
    "    \n",
    "    return qc"
   ]
  },
  {
   "cell_type": "code",
   "execution_count": 6,
   "id": "bc8ee11a-e5b0-4389-b25a-9760d26b0989",
   "metadata": {},
   "outputs": [],
   "source": [
    "#qc.draw('mpl')"
   ]
  },
  {
   "cell_type": "code",
   "execution_count": 7,
   "id": "a7641c81-c3d7-423a-8415-3c400d024d40",
   "metadata": {},
   "outputs": [
    {
     "name": "stdout",
     "output_type": "stream",
     "text": [
      "Job Running\n",
      "Job Done.\n",
      "Ending Job Monitor\n"
     ]
    },
    {
     "data": {
      "image/png": "[encoded data removed]",
      "text/plain": [
       "<Figure size 1000x700 with 1 Axes>"
      ]
     },
     "metadata": {},
     "output_type": "display_data"
    }
   ],
   "source": [
    "N = 3127  # Example number to factor\n",
    "\n",
    "# Step 1: Choose a random number 'a'\n",
    "a = random.randint(2, N-1)\n",
    "\n",
    "qc = shors_algorithm(N,a)\n",
    "\n",
    "# Execute the circuit\n",
    "job = backend.run(qc, shots=shots)\n",
    "job_monitor(job)\n",
    "result = job.result()\n",
    "counts = result.get_counts()\n",
    "\n",
    "# visualize\n",
    "plot_histogram(counts)\n",
    "\n",
    "#clean up\n",
    "#del q, c, qc\n",
    "#del result\n",
    "#del job"
   ]
  },
  {
   "cell_type": "code",
   "execution_count": 8,
   "id": "603df5fb-857c-4273-9205-c2fdfaf66f51",
   "metadata": {},
   "outputs": [
    {
     "name": "stdout",
     "output_type": "stream",
     "text": [
      "Factors of 3127 are: (53, 59)\n"
     ]
    }
   ],
   "source": [
    "from fractions import Fraction\n",
    "\n",
    "def continued_fraction_expansion(measured_value, num_qubits):\n",
    "    \"\"\"Find the period r using continued fraction expansion.\"\"\"\n",
    "    # Compute the estimated fraction s/r from the measured value\n",
    "    s = measured_value / (2 ** num_qubits)\n",
    "    \n",
    "    # Use continued fraction to find the denominator r\n",
    "    fraction = Fraction(s).limit_denominator()\n",
    "    r = fraction.denominator\n",
    "    \n",
    "    return r\n",
    "\n",
    "def classical_post_processing(counts, a, N):\n",
    "    \"\"\"\n",
    "    Processes quantum measurement results to find period r and compute factors of N.\n",
    "    \"\"\"\n",
    "    num_qubits = int(np.ceil(np.log2(N)))\n",
    "    \n",
    "    for measured_str in counts:\n",
    "        measured_value = int(measured_str[::-1], 2)  # Convert binary string to integer\n",
    "        \n",
    "        # Find the period r using continued fractions\n",
    "        r = continued_fraction_expansion(measured_value, num_qubits)\n",
    "        \n",
    "        if r % 2 != 0:  # We need r to be even\n",
    "            continue\n",
    "        \n",
    "        # Compute potential factors\n",
    "        factor1 = gcd(a**(r//2) - 1, N)\n",
    "        factor2 = gcd(a**(r//2) + 1, N)\n",
    "\n",
    "        if 1 < factor1 < N:\n",
    "            return factor1, N // factor1  # Return the nontrivial factors\n",
    "        \n",
    "    return \"Failed to find factors, try again.\"\n",
    "\n",
    "# Example Usage:\n",
    "#a = 7  # The chosen random number from quantum circuit\n",
    "#N = 15  # The number we are factoring\n",
    "#counts = {'0001': 400, '0010': 300, '0100': 200}  # Example simulated result\n",
    "\n",
    "factors = classical_post_processing(counts, a, N)\n",
    "print(\"Factors of\", N, \"are:\", factors)"
   ]
  },
  {
   "cell_type": "code",
   "execution_count": null,
   "id": "24b3189f-3cb8-4681-a642-19d331fe2049",
   "metadata": {},
   "outputs": [],
   "source": []
  },
  {
   "cell_type": "code",
   "execution_count": null,
   "id": "8918f22a-de7b-48b2-93c2-bd9578b9c47f",
   "metadata": {},
   "outputs": [],
   "source": []
  }
 ],
 "metadata": {
  "kernelspec": {
   "display_name": "Python 3 QuantumRings",
   "language": "python",
   "name": "python3_quantu_8bt6c1"
  },
  "language_info": {
   "codemirror_mode": {
    "name": "ipython",
    "version": 3
   },
   "file_extension": ".py",
   "mimetype": "text/x-python",
   "name": "python",
   "nbconvert_exporter": "python",
   "pygments_lexer": "ipython3",
   "version": "3.11.9"
  }
 },
 "nbformat": 4,
 "nbformat_minor": 5
}
