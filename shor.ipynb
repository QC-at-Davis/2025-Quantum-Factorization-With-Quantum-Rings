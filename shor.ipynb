{
 "cells": [
  {
   "cell_type": "code",
   "execution_count": 1,
   "id": "bfa1204c",
   "metadata": {},
   "outputs": [
    {
     "data": {
      "text/plain": [
       "{'name': 'jtkeio@ucdavis.edu',\n",
       " 'token': 'rings-128.CvEHATBjdKwjlXLLCRqHPZ1g61HPELRZ',\n",
       " 'max_qubits': '128'}"
      ]
     },
     "execution_count": 1,
     "metadata": {},
     "output_type": "execute_result"
    }
   ],
   "source": [
    "import QuantumRingsLib\n",
    "from QuantumRingsLib import QuantumRingsProvider\n",
    "from QuantumRingsLib import job_monitor\n",
    "from QuantumRingsLib import JobStatus\n",
    "\n",
    "import qiskit\n",
    "from qiskit.circuit import QuantumCircuit\n",
    "from qiskit import QuantumCircuit, transpile, QuantumRegister, ClassicalRegister, AncillaRegister\n",
    "from qiskit.visualization import plot_histogram\n",
    "\n",
    "from quantumrings.toolkit.qiskit import QrBackendV2\n",
    "from quantumrings.toolkit.qiskit import QrJobV1\n",
    "\n",
    "import numpy as np\n",
    "\n",
    "\n",
    "provider = QuantumRingsProvider(token =\"rings-128.CvEHATBjdKwjlXLLCRqHPZ1g61HPELRZ\", name=\"jtkeio@ucdavis.edu\")\n",
    "backend = provider.get_backend(\"scarlet_quantum_rings\")\n",
    "\n",
    "provider.active_account()"
   ]
  },
  {
   "cell_type": "code",
   "execution_count": 2,
   "id": "c27e5ce8-39a2-4fcd-8386-90bd54b0cf1e",
   "metadata": {},
   "outputs": [],
   "source": [
    "shots = 10\n",
    "numberofqubits = 3 #int(provider.active_account()[\"max_qubits\"])\n",
    "\n",
    "q = QuantumRegister(numberofqubits , 'q')\n",
    "c = ClassicalRegister(numberofqubits , 'c')\n",
    "qc = QuantumCircuit(q, c)\n",
    "\n"
   ]
  },
  {
   "cell_type": "code",
   "execution_count": 3,
   "id": "5666671b-59ac-4317-baa4-0fc11e69fd40",
   "metadata": {},
   "outputs": [],
   "source": [
    "mybackend = QrBackendV2(provider, num_qubits = qc.num_qubits)\n",
    "qc_transpiled = transpile(qc, mybackend, initial_layout=[i for i in range(0, qc.num_qubits)])"
   ]
  },
  {
   "cell_type": "code",
   "execution_count": 4,
   "id": "c117522b-ec02-4a6e-964b-3fdaf2de234d",
   "metadata": {},
   "outputs": [
    {
     "name": "stdout",
     "output_type": "stream",
     "text": [
      "done!\n"
     ]
    }
   ],
   "source": [
    "job = mybackend.run(qc_transpiled, shots = shots)\n",
    "\n",
    "result = job.result()\n",
    "counts = result.get_counts()\n",
    "print(\"done!\")"
   ]
  },
  {
   "cell_type": "code",
   "execution_count": 5,
   "id": "24acb9a8-27fa-432b-a4f9-0d7fab36976f",
   "metadata": {
    "scrolled": true
   },
   "outputs": [
    {
     "data": {
      "image/png": "[encoded data removed]",
      "text/plain": [
       "<Figure size 640x480 with 1 Axes>"
      ]
     },
     "execution_count": 5,
     "metadata": {},
     "output_type": "execute_result"
    }
   ],
   "source": [
    "plot_histogram(counts)"
   ]
  },
  {
   "cell_type": "code",
   "execution_count": null,
   "id": "7e286b15-5a06-4a81-b230-ea0bc890d6ee",
   "metadata": {},
   "outputs": [],
   "source": []
  }
 ],
 "metadata": {
  "kernelspec": {
   "display_name": "venv",
   "language": "python",
   "name": "venv"
  },
  "language_info": {
   "codemirror_mode": {
    "name": "ipython",
    "version": 3
   },
   "file_extension": ".py",
   "mimetype": "text/x-python",
   "name": "python",
   "nbconvert_exporter": "python",
   "pygments_lexer": "ipython3",
   "version": "3.12.3"
  }
 },
 "nbformat": 4,
 "nbformat_minor": 5
}
