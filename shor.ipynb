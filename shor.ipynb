{
 "cells": [
  {
   "cell_type": "code",
   "execution_count": 1,
   "id": "bfa1204c",
   "metadata": {},
   "outputs": [
    {
     "data": {
      "text/plain": [
       "{'name': 'jtkeio@ucdavis.edu',\n",
       " 'token': 'rings-128.CvEHATBjdKwjlXLLCRqHPZ1g61HPELRZ',\n",
       " 'max_qubits': '128'}"
      ]
     },
     "execution_count": 1,
     "metadata": {},
     "output_type": "execute_result"
    }
   ],
   "source": [
    "import QuantumRingsLib\n",
    "from QuantumRingsLib import QuantumRingsProvider\n",
    "from QuantumRingsLib import job_monitor\n",
    "from QuantumRingsLib import JobStatus\n",
    "\n",
    "import qiskit\n",
    "from qiskit.circuit import QuantumCircuit\n",
    "from qiskit import QuantumCircuit, transpile, QuantumRegister, ClassicalRegister, AncillaRegister\n",
    "from qiskit.visualization import plot_histogram\n",
    "\n",
    "from quantumrings.toolkit.qiskit import QrBackendV2\n",
    "from quantumrings.toolkit.qiskit import QrJobV1\n",
    "\n",
    "import numpy as np\n",
    "import random\n",
    "\n",
    "from semiprimes import semiprimes\n",
    "\n",
    "\n",
    "provider = QuantumRingsProvider(token =\"rings-128.CvEHATBjdKwjlXLLCRqHPZ1g61HPELRZ\", name=\"jtkeio@ucdavis.edu\")\n",
    "backend = provider.get_backend(\"scarlet_quantum_rings\")\n",
    "\n",
    "provider.active_account()"
   ]
  },
  {
   "cell_type": "code",
   "execution_count": 5,
   "id": "c27e5ce8-39a2-4fcd-8386-90bd54b0cf1e",
   "metadata": {
    "scrolled": true
   },
   "outputs": [
    {
     "name": "stdout",
     "output_type": "stream",
     "text": [
      "done!\n",
      "          ┌───┐┌─────────┐┌─┐                     \n",
      "q_0: ─|0>─┤ H ├┤0        ├┤M├─────────────────────\n",
      "          ├───┤│         │└╥┘┌─┐                  \n",
      "q_1: ─|0>─┤ H ├┤1        ├─╫─┤M├──────────────────\n",
      "          ├───┤│         │ ║ └╥┘┌─┐               \n",
      "q_2: ─|0>─┤ H ├┤2        ├─╫──╫─┤M├───────────────\n",
      "          ├───┤│         │ ║  ║ └╥┘┌─┐            \n",
      "q_3: ─|0>─┤ H ├┤3        ├─╫──╫──╫─┤M├────────────\n",
      "          ├───┤│  QFT(8) │ ║  ║  ║ └╥┘┌─┐         \n",
      "q_4: ─|0>─┤ H ├┤4        ├─╫──╫──╫──╫─┤M├─────────\n",
      "          ├───┤│         │ ║  ║  ║  ║ └╥┘┌─┐      \n",
      "q_5: ─|0>─┤ H ├┤5        ├─╫──╫──╫──╫──╫─┤M├──────\n",
      "          ├───┤│         │ ║  ║  ║  ║  ║ └╥┘┌─┐   \n",
      "q_6: ─|0>─┤ H ├┤6        ├─╫──╫──╫──╫──╫──╫─┤M├───\n",
      "          ├───┤│         │ ║  ║  ║  ║  ║  ║ └╥┘┌─┐\n",
      "q_7: ─|0>─┤ H ├┤7        ├─╫──╫──╫──╫──╫──╫──╫─┤M├\n",
      "          └───┘└─────────┘ ║  ║  ║  ║  ║  ║  ║ └╥┘\n",
      "c: 8/══════════════════════╩══╩══╩══╩══╩══╩══╩══╩═\n",
      "                           0  1  2  3  4  5  6  7 \n",
      "{'00000000': 10}\n"
     ]
    }
   ],
   "source": [
    "for (width, N) in semiprimes.items():\n",
    "    width = 8\n",
    "    N = 127\n",
    "    if (width > 128):\n",
    "        break #TODO: get more qubits!\n",
    "\n",
    "    shots=100\n",
    "    \n",
    "    q = QuantumRegister(width , 'q')\n",
    "    c = ClassicalRegister(width , 'c')\n",
    "    qc = QuantumCircuit(q, c)\n",
    "\n",
    "    guess = random.randint(2, N-1)\n",
    "\n",
    "    #TODO: modular exponentiation of random number\n",
    "    \n",
    "\n",
    "    #TODO: perform swaps classically\n",
    "    qft = qiskit.circuit.library.QFT(num_qubits=width, do_swaps=True, inverse=False, insert_barriers=False, name=f\"QFT({width})\")\n",
    "\n",
    "    qc.compose(qft, qubits=range(width), inplace=True)\n",
    "\n",
    "    for i in range(width):\n",
    "        qc.measure(q[i], c[i])\n",
    "\n",
    "    mybackend = QrBackendV2(provider, num_qubits = qc.num_qubits)\n",
    "    qc_transpiled = transpile(qc, mybackend, initial_layout=[i for i in range(0, qc.num_qubits)])\n",
    "\n",
    "    job = mybackend.run(qc_transpiled, shots = shots)\n",
    "\n",
    "    result = job.result()\n",
    "    counts = result.get_counts()\n",
    "\n",
    "    display(plot_histogram(counts))\n"
   ]
  },
  {
   "cell_type": "code",
   "execution_count": null,
   "id": "7e286b15-5a06-4a81-b230-ea0bc890d6ee",
   "metadata": {},
   "outputs": [],
   "source": []
  }
 ],
 "metadata": {
  "kernelspec": {
   "display_name": "venv",
   "language": "python",
   "name": "venv"
  },
  "language_info": {
   "codemirror_mode": {
    "name": "ipython",
    "version": 3
   },
   "file_extension": ".py",
   "mimetype": "text/x-python",
   "name": "python",
   "nbconvert_exporter": "python",
   "pygments_lexer": "ipython3",
   "version": "3.12.3"
  }
 },
 "nbformat": 4,
 "nbformat_minor": 5
}
